{
 "cells": [
  {
   "cell_type": "code",
   "execution_count": 1,
   "metadata": {},
   "outputs": [],
   "source": [
    "import pandas as pd"
   ]
  },
  {
   "cell_type": "code",
   "execution_count": 2,
   "metadata": {},
   "outputs": [],
   "source": [
    "data = pd.read_csv('test15.csv')"
   ]
  },
  {
   "cell_type": "code",
   "execution_count": 3,
   "metadata": {},
   "outputs": [
    {
     "data": {
      "text/plain": [
       "detail              0\n",
       "dinner_review     832\n",
       "lunch_review     1592\n",
       "score               0\n",
       "store_name          0\n",
       "store_score         0\n",
       "dtype: int64"
      ]
     },
     "execution_count": 3,
     "metadata": {},
     "output_type": "execute_result"
    }
   ],
   "source": [
    "data.isnull().sum()"
   ]
  },
  {
   "cell_type": "code",
   "execution_count": 3,
   "metadata": {},
   "outputs": [
    {
     "data": {
      "text/plain": [
       "(4417, 6)"
      ]
     },
     "execution_count": 3,
     "metadata": {},
     "output_type": "execute_result"
    }
   ],
   "source": [
    "data.shape"
   ]
  },
  {
   "cell_type": "code",
   "execution_count": 6,
   "metadata": {},
   "outputs": [],
   "source": [
    "c = data[data['store_name'] == '栄寿司']"
   ]
  },
  {
   "cell_type": "code",
   "execution_count": 10,
   "metadata": {},
   "outputs": [
    {
     "data": {
      "text/plain": [
       "Series([], Name: dinner_review, dtype: int64)"
      ]
     },
     "execution_count": 10,
     "metadata": {},
     "output_type": "execute_result"
    }
   ],
   "source": [
    "c['dinner_review'].value_counts(dropna=True)"
   ]
  },
  {
   "cell_type": "code",
   "execution_count": 4,
   "metadata": {},
   "outputs": [
    {
     "data": {
      "text/plain": [
       "銀座 久兵衛 銀座本店     751\n",
       "築地すし大 本館        387\n",
       "鮨 とかみ           364\n",
       "新ばし しみづ         328\n",
       "銀座 鮨 かねさか 本店    316\n",
       "海味              272\n",
       "弁天山美家古寿司        187\n",
       "喜寿司             183\n",
       "すし家 一柳          167\n",
       "すし佐竹            151\n",
       "すし匠 齋藤          141\n",
       "入船寿司            141\n",
       "らんまる            125\n",
       "鮨 つぼみ           120\n",
       "鮨竹              113\n",
       "青空              100\n",
       "奈可久              98\n",
       "鮨 波づき            90\n",
       "すし処 みや古分店        83\n",
       "高柿の鮨             82\n",
       "鮨 久いち            77\n",
       "鮨處やまだ            77\n",
       "鮨 福元             49\n",
       "藤                15\n",
       "Name: store_name, dtype: int64"
      ]
     },
     "execution_count": 4,
     "metadata": {},
     "output_type": "execute_result"
    }
   ],
   "source": [
    "data['store_name'].value_counts()"
   ]
  },
  {
   "cell_type": "code",
   "execution_count": 7,
   "metadata": {},
   "outputs": [
    {
     "data": {
      "text/html": [
       "<div>\n",
       "<style scoped>\n",
       "    .dataframe tbody tr th:only-of-type {\n",
       "        vertical-align: middle;\n",
       "    }\n",
       "\n",
       "    .dataframe tbody tr th {\n",
       "        vertical-align: top;\n",
       "    }\n",
       "\n",
       "    .dataframe thead th {\n",
       "        text-align: right;\n",
       "    }\n",
       "</style>\n",
       "<table border=\"1\" class=\"dataframe\">\n",
       "  <thead>\n",
       "    <tr style=\"text-align: right;\">\n",
       "      <th></th>\n",
       "      <th>detail</th>\n",
       "      <th>dinner_review</th>\n",
       "      <th>lunch_review</th>\n",
       "      <th>score</th>\n",
       "      <th>store_name</th>\n",
       "      <th>store_score</th>\n",
       "    </tr>\n",
       "  </thead>\n",
       "  <tbody>\n",
       "    <tr>\n",
       "      <td>0</td>\n",
       "      <td>5.0,4.7,4.6,4.8,4.1</td>\n",
       "      <td>\\n          わたろぐ　https://wata-log.net/kakigara...</td>\n",
       "      <td>NaN</td>\n",
       "      <td>4.8</td>\n",
       "      <td>日本橋蛎殻町 すぎた</td>\n",
       "      <td>4.78</td>\n",
       "    </tr>\n",
       "    <tr>\n",
       "      <td>1</td>\n",
       "      <td>4.8,4.6,4.7,4.6,4.6</td>\n",
       "      <td>\\n          【再訪】 ２０１９．９朝晩は随分と秋めいてきた休日。食べログ全国総合...</td>\n",
       "      <td>NaN</td>\n",
       "      <td>4.6</td>\n",
       "      <td>日本橋蛎殻町 すぎた</td>\n",
       "      <td>4.78</td>\n",
       "    </tr>\n",
       "    <tr>\n",
       "      <td>2</td>\n",
       "      <td>-,-,-,-,-</td>\n",
       "      <td>\\n          今年1月に常連の友達に連れて行ってもらい超絶感動した日本橋蛎殻町すぎ...</td>\n",
       "      <td>NaN</td>\n",
       "      <td>5.0</td>\n",
       "      <td>日本橋蛎殻町 すぎた</td>\n",
       "      <td>4.78</td>\n",
       "    </tr>\n",
       "    <tr>\n",
       "      <td>3</td>\n",
       "      <td>-,-,-,-,-</td>\n",
       "      <td>\\n          【オーダー】おまかせコース（詳細下記）【所感】平日20:30〜訪問。...</td>\n",
       "      <td>NaN</td>\n",
       "      <td>4.9</td>\n",
       "      <td>日本橋蛎殻町 すぎた</td>\n",
       "      <td>4.78</td>\n",
       "    </tr>\n",
       "    <tr>\n",
       "      <td>4</td>\n",
       "      <td>4.8,4.8,4.8,4.0,4.0</td>\n",
       "      <td>\\n          再  訪(19.11月)　都寿司の頃から通って、一貫して一番好きだっ...</td>\n",
       "      <td>NaN</td>\n",
       "      <td>4.8</td>\n",
       "      <td>日本橋蛎殻町 すぎた</td>\n",
       "      <td>4.78</td>\n",
       "    </tr>\n",
       "    <tr>\n",
       "      <td>...</td>\n",
       "      <td>...</td>\n",
       "      <td>...</td>\n",
       "      <td>...</td>\n",
       "      <td>...</td>\n",
       "      <td>...</td>\n",
       "      <td>...</td>\n",
       "    </tr>\n",
       "    <tr>\n",
       "      <td>136</td>\n",
       "      <td>-,-,-,-,-</td>\n",
       "      <td>\\n          つまみ01 空豆02 平貝刺身 愛媛03 鮃刺身 東京湾勝山04 新...</td>\n",
       "      <td>NaN</td>\n",
       "      <td>5.0</td>\n",
       "      <td>日本橋蛎殻町 すぎた</td>\n",
       "      <td>4.78</td>\n",
       "    </tr>\n",
       "    <tr>\n",
       "      <td>137</td>\n",
       "      <td>-,-,-,-,-</td>\n",
       "      <td>\\n          つまみ01 ひろっこのお浸し02 真梶木刺身 和歌山03 蛸刺身 佐...</td>\n",
       "      <td>NaN</td>\n",
       "      <td>5.0</td>\n",
       "      <td>日本橋蛎殻町 すぎた</td>\n",
       "      <td>4.78</td>\n",
       "    </tr>\n",
       "    <tr>\n",
       "      <td>193</td>\n",
       "      <td>4.5,4.3,4.5,4.2,4.0</td>\n",
       "      <td>\\n          うどんが主食の公式ブログ　https://alwaysudon.co...</td>\n",
       "      <td>NaN</td>\n",
       "      <td>4.5</td>\n",
       "      <td>日本橋蛎殻町 すぎた</td>\n",
       "      <td>4.78</td>\n",
       "    </tr>\n",
       "    <tr>\n",
       "      <td>196</td>\n",
       "      <td>4.5,4.3,4.5,4.2,4.0</td>\n",
       "      <td>\\n          うどんが主食の公式ブログ　http://alwaysudon.com...</td>\n",
       "      <td>NaN</td>\n",
       "      <td>4.5</td>\n",
       "      <td>日本橋蛎殻町 すぎた</td>\n",
       "      <td>4.78</td>\n",
       "    </tr>\n",
       "    <tr>\n",
       "      <td>197</td>\n",
       "      <td>4.4,4.3,4.5,4.2,4.0</td>\n",
       "      <td>\\n          うどんが主食の公式ブログ、うどんが主食の公式メルマガ都寿司の時代から...</td>\n",
       "      <td>NaN</td>\n",
       "      <td>4.4</td>\n",
       "      <td>日本橋蛎殻町 すぎた</td>\n",
       "      <td>4.78</td>\n",
       "    </tr>\n",
       "  </tbody>\n",
       "</table>\n",
       "<p>132 rows × 6 columns</p>\n",
       "</div>"
      ],
      "text/plain": [
       "                  detail                                      dinner_review  \\\n",
       "0    5.0,4.7,4.6,4.8,4.1  \\n          わたろぐ　https://wata-log.net/kakigara...   \n",
       "1    4.8,4.6,4.7,4.6,4.6  \\n          【再訪】 ２０１９．９朝晩は随分と秋めいてきた休日。食べログ全国総合...   \n",
       "2              -,-,-,-,-  \\n          今年1月に常連の友達に連れて行ってもらい超絶感動した日本橋蛎殻町すぎ...   \n",
       "3              -,-,-,-,-  \\n          【オーダー】おまかせコース（詳細下記）【所感】平日20:30〜訪問。...   \n",
       "4    4.8,4.8,4.8,4.0,4.0  \\n          再  訪(19.11月)　都寿司の頃から通って、一貫して一番好きだっ...   \n",
       "..                   ...                                                ...   \n",
       "136            -,-,-,-,-  \\n          つまみ01 空豆02 平貝刺身 愛媛03 鮃刺身 東京湾勝山04 新...   \n",
       "137            -,-,-,-,-  \\n          つまみ01 ひろっこのお浸し02 真梶木刺身 和歌山03 蛸刺身 佐...   \n",
       "193  4.5,4.3,4.5,4.2,4.0  \\n          うどんが主食の公式ブログ　https://alwaysudon.co...   \n",
       "196  4.5,4.3,4.5,4.2,4.0  \\n          うどんが主食の公式ブログ　http://alwaysudon.com...   \n",
       "197  4.4,4.3,4.5,4.2,4.0  \\n          うどんが主食の公式ブログ、うどんが主食の公式メルマガ都寿司の時代から...   \n",
       "\n",
       "    lunch_review score  store_name  store_score  \n",
       "0            NaN   4.8  日本橋蛎殻町 すぎた         4.78  \n",
       "1            NaN   4.6  日本橋蛎殻町 すぎた         4.78  \n",
       "2            NaN   5.0  日本橋蛎殻町 すぎた         4.78  \n",
       "3            NaN   4.9  日本橋蛎殻町 すぎた         4.78  \n",
       "4            NaN   4.8  日本橋蛎殻町 すぎた         4.78  \n",
       "..           ...   ...         ...          ...  \n",
       "136          NaN   5.0  日本橋蛎殻町 すぎた         4.78  \n",
       "137          NaN   5.0  日本橋蛎殻町 すぎた         4.78  \n",
       "193          NaN   4.5  日本橋蛎殻町 すぎた         4.78  \n",
       "196          NaN   4.5  日本橋蛎殻町 すぎた         4.78  \n",
       "197          NaN   4.4  日本橋蛎殻町 すぎた         4.78  \n",
       "\n",
       "[132 rows x 6 columns]"
      ]
     },
     "execution_count": 7,
     "metadata": {},
     "output_type": "execute_result"
    }
   ],
   "source": [
    "c.head(300)"
   ]
  },
  {
   "cell_type": "code",
   "execution_count": null,
   "metadata": {},
   "outputs": [],
   "source": []
  }
 ],
 "metadata": {
  "kernelspec": {
   "display_name": "Python 3",
   "language": "python",
   "name": "python3"
  },
  "language_info": {
   "codemirror_mode": {
    "name": "ipython",
    "version": 3
   },
   "file_extension": ".py",
   "mimetype": "text/x-python",
   "name": "python",
   "nbconvert_exporter": "python",
   "pygments_lexer": "ipython3",
   "version": "3.7.4"
  }
 },
 "nbformat": 4,
 "nbformat_minor": 2
}
